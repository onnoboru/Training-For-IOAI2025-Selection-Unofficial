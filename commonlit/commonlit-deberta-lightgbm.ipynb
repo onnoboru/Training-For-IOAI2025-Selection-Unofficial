{
 "cells": [
  {
   "cell_type": "code",
   "execution_count": 1,
   "id": "c4369f86",
   "metadata": {
    "execution": {
     "iopub.execute_input": "2025-01-12T14:44:03.073821Z",
     "iopub.status.busy": "2025-01-12T14:44:03.073480Z",
     "iopub.status.idle": "2025-01-12T14:44:11.305842Z",
     "shell.execute_reply": "2025-01-12T14:44:11.304890Z"
    },
    "papermill": {
     "duration": 8.237777,
     "end_time": "2025-01-12T14:44:11.307393",
     "exception": false,
     "start_time": "2025-01-12T14:44:03.069616",
     "status": "completed"
    },
    "tags": []
   },
   "outputs": [
    {
     "name": "stdout",
     "output_type": "stream",
     "text": [
      "cuda\n"
     ]
    }
   ],
   "source": [
    "import os\n",
    "import random\n",
    "import math\n",
    "import gc\n",
    "import time\n",
    "import copy\n",
    "\n",
    "import numpy as np\n",
    "import pandas as pd\n",
    "\n",
    "import torch\n",
    "import torch.nn as nn\n",
    "from torch.utils.data import DataLoader, Dataset\n",
    "\n",
    "\n",
    "import transformers\n",
    "from transformers import AutoModel, AutoTokenizer, AutoModelForSequenceClassification\n",
    "import lightgbm as lgb\n",
    "\n",
    "\n",
    "from tqdm.auto import tqdm\n",
    "from sklearn.metrics import mean_squared_error\n",
    "from sklearn.model_selection import KFold\n",
    "\n",
    "import matplotlib.pyplot as plt\n",
    "\n",
    "import warnings\n",
    "warnings.filterwarnings('ignore')\n",
    "\n",
    "device = torch.device(\"cuda\" if torch.cuda.is_available() else \"cpu\")\n",
    "print(device)"
   ]
  },
  {
   "cell_type": "code",
   "execution_count": 2,
   "id": "ac237214",
   "metadata": {
    "execution": {
     "iopub.execute_input": "2025-01-12T14:44:11.313083Z",
     "iopub.status.busy": "2025-01-12T14:44:11.312571Z",
     "iopub.status.idle": "2025-01-12T14:44:11.321361Z",
     "shell.execute_reply": "2025-01-12T14:44:11.320800Z"
    },
    "papermill": {
     "duration": 0.012812,
     "end_time": "2025-01-12T14:44:11.322669",
     "exception": false,
     "start_time": "2025-01-12T14:44:11.309857",
     "status": "completed"
    },
    "tags": []
   },
   "outputs": [],
   "source": [
    "class CFG :\n",
    "    debug_one_epoch=False\n",
    "    debug_one_fold=False\n",
    "    run_cv=True\n",
    "    only_infer=False\n",
    "    num_workers=8\n",
    "    num_epochs=10\n",
    "    warmup_prop=0.1\n",
    "    lr=5e-5\n",
    "    max_len=512\n",
    "    batch_size=8\n",
    "    early_stopping_rounds=5\n",
    "    random_seed=42\n",
    "    model_path=\"/kaggle/input/huggingfacedebertav3variants/deberta-v3-base\" \n",
    "    pretrained_path=\"/kaggle/input/commmonlit-deberta\"\n",
    "    optimizer=torch.optim.AdamW\n",
    "    criterion=torch.nn.MSELoss()\n",
    "    device=device\n",
    "    fold=5\n",
    "    use_amp = True\n",
    "    \n",
    "def seed_torch(seed):\n",
    "    random.seed(seed)\n",
    "    os.environ['PYTHONHASHSEED'] = str(seed)\n",
    "    np.random.seed(seed)\n",
    "    torch.manual_seed(seed)\n",
    "    torch.cuda.manual_seed(seed)\n",
    "    torch.backends.cudnn.deterministic = True\n",
    "    \n",
    "seed_torch(CFG.random_seed)"
   ]
  },
  {
   "cell_type": "code",
   "execution_count": 3,
   "id": "b852f453",
   "metadata": {
    "execution": {
     "iopub.execute_input": "2025-01-12T14:44:11.327493Z",
     "iopub.status.busy": "2025-01-12T14:44:11.327273Z",
     "iopub.status.idle": "2025-01-12T14:44:11.329971Z",
     "shell.execute_reply": "2025-01-12T14:44:11.329411Z"
    },
    "papermill": {
     "duration": 0.006395,
     "end_time": "2025-01-12T14:44:11.331148",
     "exception": false,
     "start_time": "2025-01-12T14:44:11.324753",
     "status": "completed"
    },
    "tags": []
   },
   "outputs": [],
   "source": [
    "if CFG.debug_one_epoch:\n",
    "    CFG.num_epochs = 1"
   ]
  },
  {
   "cell_type": "code",
   "execution_count": 4,
   "id": "63f2881c",
   "metadata": {
    "execution": {
     "iopub.execute_input": "2025-01-12T14:44:11.335875Z",
     "iopub.status.busy": "2025-01-12T14:44:11.335670Z",
     "iopub.status.idle": "2025-01-12T14:44:11.454594Z",
     "shell.execute_reply": "2025-01-12T14:44:11.453851Z"
    },
    "papermill": {
     "duration": 0.122945,
     "end_time": "2025-01-12T14:44:11.456170",
     "exception": false,
     "start_time": "2025-01-12T14:44:11.333225",
     "status": "completed"
    },
    "tags": []
   },
   "outputs": [],
   "source": [
    "train = pd.read_csv(\"../input/commonlitreadabilityprize/train.csv\")\n",
    "test = pd.read_csv(\"../input/commonlitreadabilityprize/test.csv\")\n",
    "submission = pd.read_csv(\"../input/commonlitreadabilityprize/sample_submission.csv\")"
   ]
  },
  {
   "cell_type": "code",
   "execution_count": 5,
   "id": "568821bf",
   "metadata": {
    "execution": {
     "iopub.execute_input": "2025-01-12T14:44:11.461455Z",
     "iopub.status.busy": "2025-01-12T14:44:11.461225Z",
     "iopub.status.idle": "2025-01-12T14:44:11.477196Z",
     "shell.execute_reply": "2025-01-12T14:44:11.476522Z"
    },
    "papermill": {
     "duration": 0.019797,
     "end_time": "2025-01-12T14:44:11.478374",
     "exception": false,
     "start_time": "2025-01-12T14:44:11.458577",
     "status": "completed"
    },
    "tags": []
   },
   "outputs": [
    {
     "data": {
      "text/plain": [
       "count    2834.000000\n",
       "mean       -0.959319\n",
       "std         1.033579\n",
       "min        -3.676268\n",
       "25%        -1.690320\n",
       "50%        -0.912190\n",
       "75%        -0.202540\n",
       "max         1.711390\n",
       "Name: target, dtype: float64"
      ]
     },
     "execution_count": 5,
     "metadata": {},
     "output_type": "execute_result"
    }
   ],
   "source": [
    "train[\"target\"].describe()"
   ]
  },
  {
   "cell_type": "code",
   "execution_count": 6,
   "id": "1f2f8c00",
   "metadata": {
    "execution": {
     "iopub.execute_input": "2025-01-12T14:44:11.483670Z",
     "iopub.status.busy": "2025-01-12T14:44:11.483439Z",
     "iopub.status.idle": "2025-01-12T14:44:11.490637Z",
     "shell.execute_reply": "2025-01-12T14:44:11.489607Z"
    },
    "papermill": {
     "duration": 0.011397,
     "end_time": "2025-01-12T14:44:11.491995",
     "exception": false,
     "start_time": "2025-01-12T14:44:11.480598",
     "status": "completed"
    },
    "tags": []
   },
   "outputs": [],
   "source": [
    "def get_features(texts, model_path, device, fold):\n",
    "    # モデルとトークナイザーの読み込み\n",
    "    model = AutoModelForSequenceClassification.from_pretrained(\n",
    "        model_path,\n",
    "        output_hidden_states=True,\n",
    "        num_labels = 1\n",
    "    ).to(device)\n",
    "    tokenizer = AutoTokenizer.from_pretrained(model_path)\n",
    "    \n",
    "    model.eval()\n",
    "    features = []\n",
    "    \n",
    "    # numpy arrayをリストに変換\n",
    "    texts = texts.tolist()\n",
    "    \n",
    "    with torch.no_grad():\n",
    "        for i in range(0, len(texts), CFG.batch_size):\n",
    "            batch_texts = texts[i:i + CFG.batch_size]\n",
    "            \n",
    "            # バッチ処理\n",
    "            inputs = tokenizer(\n",
    "                batch_texts,\n",
    "                padding=True,\n",
    "                truncation=True,\n",
    "                max_length=CFG.max_len,\n",
    "                return_tensors=\"pt\"\n",
    "            ).to(device)\n",
    "            \n",
    "            outputs = model(**inputs, output_hidden_states=True)\n",
    "            last_hidden_states = outputs.hidden_states[-1]\n",
    "            cls_features = last_hidden_states[:, 0].cpu().numpy()\n",
    "            features.append(cls_features)\n",
    "    \n",
    "    return np.vstack(features)"
   ]
  },
  {
   "cell_type": "code",
   "execution_count": 7,
   "id": "85347764",
   "metadata": {
    "execution": {
     "iopub.execute_input": "2025-01-12T14:44:11.498794Z",
     "iopub.status.busy": "2025-01-12T14:44:11.498480Z",
     "iopub.status.idle": "2025-01-12T14:44:11.504051Z",
     "shell.execute_reply": "2025-01-12T14:44:11.503062Z"
    },
    "papermill": {
     "duration": 0.011172,
     "end_time": "2025-01-12T14:44:11.505549",
     "exception": false,
     "start_time": "2025-01-12T14:44:11.494377",
     "status": "completed"
    },
    "tags": []
   },
   "outputs": [],
   "source": [
    "def train_lightgbm(X_train, y_train, X_valid, y_valid):\n",
    "    train_data = lgb.Dataset(X_train, label=y_train)\n",
    "    valid_data = lgb.Dataset(X_valid, label=y_valid)\n",
    "    \n",
    "    params = {\n",
    "        'objective': 'regression',\n",
    "        'metric': 'rmse',\n",
    "        'boosting_type': 'gbdt',\n",
    "        'learning_rate': 0.01,\n",
    "        'num_leaves': 16,\n",
    "        'max_depth': 4,\n",
    "        'verbose': -1\n",
    "    }\n",
    "    \n",
    "    callbacks = [\n",
    "        lgb.early_stopping(50),\n",
    "        lgb.log_evaluation(100)\n",
    "    ]\n",
    "    \n",
    "    model = lgb.train(\n",
    "        params,\n",
    "        train_data,\n",
    "        valid_sets=[train_data, valid_data],\n",
    "        num_boost_round=1000,\n",
    "        callbacks=callbacks\n",
    "    )\n",
    "    \n",
    "    return model"
   ]
  },
  {
   "cell_type": "code",
   "execution_count": 8,
   "id": "44903877",
   "metadata": {
    "execution": {
     "iopub.execute_input": "2025-01-12T14:44:11.510900Z",
     "iopub.status.busy": "2025-01-12T14:44:11.510673Z",
     "iopub.status.idle": "2025-01-12T14:48:17.075648Z",
     "shell.execute_reply": "2025-01-12T14:48:17.074401Z"
    },
    "papermill": {
     "duration": 245.569325,
     "end_time": "2025-01-12T14:48:17.077235",
     "exception": false,
     "start_time": "2025-01-12T14:44:11.507910",
     "status": "completed"
    },
    "tags": []
   },
   "outputs": [
    {
     "name": "stdout",
     "output_type": "stream",
     "text": [
      "======================================Fold 0======================================\n"
     ]
    },
    {
     "name": "stderr",
     "output_type": "stream",
     "text": [
      "Some weights of DebertaV2ForSequenceClassification were not initialized from the model checkpoint at /kaggle/input/huggingfacedebertav3variants/deberta-v3-base and are newly initialized: ['classifier.bias', 'classifier.weight', 'pooler.dense.bias', 'pooler.dense.weight']\n",
      "You should probably TRAIN this model on a down-stream task to be able to use it for predictions and inference.\n",
      "Some weights of DebertaV2ForSequenceClassification were not initialized from the model checkpoint at /kaggle/input/huggingfacedebertav3variants/deberta-v3-base and are newly initialized: ['classifier.bias', 'classifier.weight', 'pooler.dense.bias', 'pooler.dense.weight']\n",
      "You should probably TRAIN this model on a down-stream task to be able to use it for predictions and inference.\n"
     ]
    },
    {
     "name": "stdout",
     "output_type": "stream",
     "text": [
      "Training until validation scores don't improve for 50 rounds\n",
      "[100]\ttraining's rmse: 0.744648\tvalid_1's rmse: 0.799359\n",
      "[200]\ttraining's rmse: 0.621437\tvalid_1's rmse: 0.727885\n",
      "[300]\ttraining's rmse: 0.548039\tvalid_1's rmse: 0.696973\n",
      "[400]\ttraining's rmse: 0.501952\tvalid_1's rmse: 0.680425\n",
      "[500]\ttraining's rmse: 0.468647\tvalid_1's rmse: 0.670366\n",
      "[600]\ttraining's rmse: 0.439426\tvalid_1's rmse: 0.663494\n",
      "[700]\ttraining's rmse: 0.413073\tvalid_1's rmse: 0.658315\n",
      "[800]\ttraining's rmse: 0.38995\tvalid_1's rmse: 0.655157\n",
      "[900]\ttraining's rmse: 0.367735\tvalid_1's rmse: 0.652829\n",
      "[1000]\ttraining's rmse: 0.347414\tvalid_1's rmse: 0.65056\n",
      "Did not meet early stopping. Best iteration is:\n",
      "[1000]\ttraining's rmse: 0.347414\tvalid_1's rmse: 0.65056\n",
      "======================================Fold 1======================================\n"
     ]
    },
    {
     "name": "stderr",
     "output_type": "stream",
     "text": [
      "Some weights of DebertaV2ForSequenceClassification were not initialized from the model checkpoint at /kaggle/input/huggingfacedebertav3variants/deberta-v3-base and are newly initialized: ['classifier.bias', 'classifier.weight', 'pooler.dense.bias', 'pooler.dense.weight']\n",
      "You should probably TRAIN this model on a down-stream task to be able to use it for predictions and inference.\n",
      "Some weights of DebertaV2ForSequenceClassification were not initialized from the model checkpoint at /kaggle/input/huggingfacedebertav3variants/deberta-v3-base and are newly initialized: ['classifier.bias', 'classifier.weight', 'pooler.dense.bias', 'pooler.dense.weight']\n",
      "You should probably TRAIN this model on a down-stream task to be able to use it for predictions and inference.\n"
     ]
    },
    {
     "name": "stdout",
     "output_type": "stream",
     "text": [
      "Training until validation scores don't improve for 50 rounds\n",
      "[100]\ttraining's rmse: 0.743067\tvalid_1's rmse: 0.837642\n",
      "[200]\ttraining's rmse: 0.621119\tvalid_1's rmse: 0.761916\n",
      "[300]\ttraining's rmse: 0.550356\tvalid_1's rmse: 0.731211\n",
      "[400]\ttraining's rmse: 0.499999\tvalid_1's rmse: 0.714216\n",
      "[500]\ttraining's rmse: 0.464188\tvalid_1's rmse: 0.702626\n",
      "[600]\ttraining's rmse: 0.436263\tvalid_1's rmse: 0.696286\n",
      "[700]\ttraining's rmse: 0.41186\tvalid_1's rmse: 0.690834\n",
      "[800]\ttraining's rmse: 0.388716\tvalid_1's rmse: 0.687362\n",
      "[900]\ttraining's rmse: 0.368095\tvalid_1's rmse: 0.68543\n",
      "[1000]\ttraining's rmse: 0.349172\tvalid_1's rmse: 0.683855\n",
      "Did not meet early stopping. Best iteration is:\n",
      "[1000]\ttraining's rmse: 0.349172\tvalid_1's rmse: 0.683855\n",
      "======================================Fold 2======================================\n"
     ]
    },
    {
     "name": "stderr",
     "output_type": "stream",
     "text": [
      "Some weights of DebertaV2ForSequenceClassification were not initialized from the model checkpoint at /kaggle/input/huggingfacedebertav3variants/deberta-v3-base and are newly initialized: ['classifier.bias', 'classifier.weight', 'pooler.dense.bias', 'pooler.dense.weight']\n",
      "You should probably TRAIN this model on a down-stream task to be able to use it for predictions and inference.\n",
      "Some weights of DebertaV2ForSequenceClassification were not initialized from the model checkpoint at /kaggle/input/huggingfacedebertav3variants/deberta-v3-base and are newly initialized: ['classifier.bias', 'classifier.weight', 'pooler.dense.bias', 'pooler.dense.weight']\n",
      "You should probably TRAIN this model on a down-stream task to be able to use it for predictions and inference.\n"
     ]
    },
    {
     "name": "stdout",
     "output_type": "stream",
     "text": [
      "Training until validation scores don't improve for 50 rounds\n",
      "[100]\ttraining's rmse: 0.750586\tvalid_1's rmse: 0.791142\n",
      "[200]\ttraining's rmse: 0.623728\tvalid_1's rmse: 0.714648\n",
      "[300]\ttraining's rmse: 0.552833\tvalid_1's rmse: 0.682542\n",
      "[400]\ttraining's rmse: 0.507792\tvalid_1's rmse: 0.670249\n",
      "[500]\ttraining's rmse: 0.470936\tvalid_1's rmse: 0.661809\n",
      "[600]\ttraining's rmse: 0.439667\tvalid_1's rmse: 0.656406\n",
      "[700]\ttraining's rmse: 0.41334\tvalid_1's rmse: 0.652785\n",
      "[800]\ttraining's rmse: 0.390077\tvalid_1's rmse: 0.650832\n",
      "[900]\ttraining's rmse: 0.368647\tvalid_1's rmse: 0.649609\n",
      "[1000]\ttraining's rmse: 0.349016\tvalid_1's rmse: 0.649252\n",
      "Did not meet early stopping. Best iteration is:\n",
      "[989]\ttraining's rmse: 0.351176\tvalid_1's rmse: 0.649086\n",
      "======================================Fold 3======================================\n"
     ]
    },
    {
     "name": "stderr",
     "output_type": "stream",
     "text": [
      "Some weights of DebertaV2ForSequenceClassification were not initialized from the model checkpoint at /kaggle/input/huggingfacedebertav3variants/deberta-v3-base and are newly initialized: ['classifier.bias', 'classifier.weight', 'pooler.dense.bias', 'pooler.dense.weight']\n",
      "You should probably TRAIN this model on a down-stream task to be able to use it for predictions and inference.\n",
      "Some weights of DebertaV2ForSequenceClassification were not initialized from the model checkpoint at /kaggle/input/huggingfacedebertav3variants/deberta-v3-base and are newly initialized: ['classifier.bias', 'classifier.weight', 'pooler.dense.bias', 'pooler.dense.weight']\n",
      "You should probably TRAIN this model on a down-stream task to be able to use it for predictions and inference.\n"
     ]
    },
    {
     "name": "stdout",
     "output_type": "stream",
     "text": [
      "Training until validation scores don't improve for 50 rounds\n",
      "[100]\ttraining's rmse: 0.738001\tvalid_1's rmse: 0.83137\n",
      "[200]\ttraining's rmse: 0.612173\tvalid_1's rmse: 0.764059\n",
      "[300]\ttraining's rmse: 0.538832\tvalid_1's rmse: 0.737735\n",
      "[400]\ttraining's rmse: 0.493134\tvalid_1's rmse: 0.726988\n",
      "[500]\ttraining's rmse: 0.457972\tvalid_1's rmse: 0.720092\n",
      "[600]\ttraining's rmse: 0.428982\tvalid_1's rmse: 0.716127\n",
      "[700]\ttraining's rmse: 0.404011\tvalid_1's rmse: 0.710727\n",
      "[800]\ttraining's rmse: 0.381073\tvalid_1's rmse: 0.706416\n",
      "[900]\ttraining's rmse: 0.361295\tvalid_1's rmse: 0.703236\n",
      "[1000]\ttraining's rmse: 0.343513\tvalid_1's rmse: 0.700445\n",
      "Did not meet early stopping. Best iteration is:\n",
      "[999]\ttraining's rmse: 0.343736\tvalid_1's rmse: 0.700444\n",
      "======================================Fold 4======================================\n"
     ]
    },
    {
     "name": "stderr",
     "output_type": "stream",
     "text": [
      "Some weights of DebertaV2ForSequenceClassification were not initialized from the model checkpoint at /kaggle/input/huggingfacedebertav3variants/deberta-v3-base and are newly initialized: ['classifier.bias', 'classifier.weight', 'pooler.dense.bias', 'pooler.dense.weight']\n",
      "You should probably TRAIN this model on a down-stream task to be able to use it for predictions and inference.\n",
      "Some weights of DebertaV2ForSequenceClassification were not initialized from the model checkpoint at /kaggle/input/huggingfacedebertav3variants/deberta-v3-base and are newly initialized: ['classifier.bias', 'classifier.weight', 'pooler.dense.bias', 'pooler.dense.weight']\n",
      "You should probably TRAIN this model on a down-stream task to be able to use it for predictions and inference.\n"
     ]
    },
    {
     "name": "stdout",
     "output_type": "stream",
     "text": [
      "Training until validation scores don't improve for 50 rounds\n",
      "[100]\ttraining's rmse: 0.745156\tvalid_1's rmse: 0.789661\n",
      "[200]\ttraining's rmse: 0.621148\tvalid_1's rmse: 0.717714\n",
      "[300]\ttraining's rmse: 0.547042\tvalid_1's rmse: 0.689485\n",
      "[400]\ttraining's rmse: 0.499274\tvalid_1's rmse: 0.67618\n",
      "[500]\ttraining's rmse: 0.463186\tvalid_1's rmse: 0.66977\n",
      "[600]\ttraining's rmse: 0.434977\tvalid_1's rmse: 0.666336\n",
      "[700]\ttraining's rmse: 0.411823\tvalid_1's rmse: 0.664089\n",
      "[800]\ttraining's rmse: 0.388819\tvalid_1's rmse: 0.661772\n",
      "[900]\ttraining's rmse: 0.366575\tvalid_1's rmse: 0.659781\n",
      "[1000]\ttraining's rmse: 0.346729\tvalid_1's rmse: 0.657702\n",
      "Did not meet early stopping. Best iteration is:\n",
      "[1000]\ttraining's rmse: 0.346729\tvalid_1's rmse: 0.657702\n"
     ]
    }
   ],
   "source": [
    "\n",
    "def main():\n",
    "    # データの読み込み\n",
    "    train = pd.read_csv(\"../input/commonlitreadabilityprize/train.csv\")\n",
    "    test = pd.read_csv(\"../input/commonlitreadabilityprize/test.csv\")\n",
    "    submission = pd.read_csv(\"../input/commonlitreadabilityprize/sample_submission.csv\")\n",
    "\n",
    "    # K-fold cross validation\n",
    "    kf = KFold(n_splits=CFG.fold, shuffle=True, random_state=CFG.random_seed)\n",
    "    models = []\n",
    "    oof_preds = np.zeros(len(train))\n",
    "    test_preds = np.zeros(len(test))\n",
    "    \n",
    "    for fold, (train_idx, valid_idx) in enumerate(kf.split(train)):\n",
    "        print(f\"======================================Fold {fold}======================================\")\n",
    "        train_embeddings = get_features(train[\"excerpt\"].values, CFG.model_path, CFG.device, fold)\n",
    "        test_embeddings = get_features(test[\"excerpt\"].values, CFG.model_path, CFG.device, fold)\n",
    "        X_train = train_embeddings[train_idx]\n",
    "        y_train = train[\"target\"].values[train_idx]\n",
    "        X_valid = train_embeddings[valid_idx]\n",
    "        y_valid = train[\"target\"].values[valid_idx]\n",
    "        \n",
    "        model = train_lightgbm(X_train, y_train, X_valid, y_valid)\n",
    "        models.append(model)\n",
    "        \n",
    "        oof_preds[valid_idx] = model.predict(X_valid)\n",
    "        test_preds += model.predict(test_embeddings)\n",
    "    \n",
    "    test_preds /= CFG.fold\n",
    "    # 結果の保存\n",
    "    submission[\"target\"] = test_preds\n",
    "    submission.to_csv(\"submission.csv\", index=False)\n",
    "\n",
    "if __name__ == \"__main__\":\n",
    "    main()"
   ]
  }
 ],
 "metadata": {
  "kaggle": {
   "accelerator": "gpu",
   "dataSources": [
    {
     "databundleVersionId": 2227051,
     "sourceId": 25914,
     "sourceType": "competition"
    },
    {
     "datasetId": 2663421,
     "sourceId": 4620664,
     "sourceType": "datasetVersion"
    },
    {
     "sourceId": 216599161,
     "sourceType": "kernelVersion"
    }
   ],
   "dockerImageVersionId": 30823,
   "isGpuEnabled": true,
   "isInternetEnabled": true,
   "language": "python",
   "sourceType": "notebook"
  },
  "kernelspec": {
   "display_name": "Python 3",
   "language": "python",
   "name": "python3"
  },
  "language_info": {
   "codemirror_mode": {
    "name": "ipython",
    "version": 3
   },
   "file_extension": ".py",
   "mimetype": "text/x-python",
   "name": "python",
   "nbconvert_exporter": "python",
   "pygments_lexer": "ipython3",
   "version": "3.10.12"
  },
  "papermill": {
   "default_parameters": {},
   "duration": 258.834421,
   "end_time": "2025-01-12T14:48:19.744021",
   "environment_variables": {},
   "exception": null,
   "input_path": "__notebook__.ipynb",
   "output_path": "__notebook__.ipynb",
   "parameters": {},
   "start_time": "2025-01-12T14:44:00.909600",
   "version": "2.6.0"
  }
 },
 "nbformat": 4,
 "nbformat_minor": 5
}
