{
    "cells": [
        {
            "cell_type": "markdown",
            "metadata": {},
            "source": [
                "# 0. はじめに\n",
                "この notebook は、 IOAI 2025 対策サーバー第三回コンペ復習会の baseline notebook です。自作のベースラインを使わない人はこのベースラインを使ってください。  \n",
                "\n",
                "## 0.1. このコンペについて\n",
                "- いくつかの特徴量から、銀行のユーザーが解約するかどうかを予測する、テーブルデータの二値分類コンペです。\n",
                "- 評価指標は [ROC-AUC](https://zenn.dev/yuto_mo/articles/3378374bc5d8f5) です。\n",
                "- **今回のコンペは、 test データに対する予測結果を csv ファイルで提出するだけでいいです。手元で実行して csv ファイルを作ってもよし、 kaggle 上で作って提出してもよし、です。**  \n",
                "- 非常に僅かな改善を積み重ねていくコンペなので、スコアが上がらなくても気にせず、多様なモデルやライブラリ、手法の使い方を積極的に試していってください！\n",
                "\n",
                "## 0.2. 今回の目標\n",
                "- 初心者 : テーブルコンペの基礎を学ぶ\n",
                "- 中級者、上級者 : できるだけ高いスコアを取る。様々な手法を試す。\n",
                "\n",
                "## 0.3. データについて\n",
                "- train.csv, test.csv, submission.csv という 3 つのファイルが与えられます。\n",
                "- train.csv の \"Existed\" という列が目的変数です。\n",
                "\n",
                "## 0.4. コンペ復習会について\n",
                "- 解く時は基本的に自由にやってもらって大丈夫です。ただし、 IOAI に近い形式にするなら検索 OK 、このコンペの notebook と discussion は参考にしない、とかがいいと思います。\n",
                "- 解く期間の終了日は 2/5 です。その後、上位陣の解法を見たり、それぞれの解法を見たりします。一つの google slide をみんなで編集する予定です。  \n",
                "\n",
                "## 0.5. その他\n",
                "- 何でもわからないところがあったらどんどん質問してください！\n",
                "- 一部説明はテーブルデータコンペの基本的な知識があることを前提に書かれています。わからない所があれば適宜調べるか質問してください。\n",
                "- 初心者じゃない人へ : 一部記述がおかしかったりしたら指摘してくださるとありがたいです！"
            ]
        },
        {
            "cell_type": "markdown",
            "metadata": {},
            "source": [
                "# 1. ライブラリ読み込みと設定"
            ]
        },
        {
            "cell_type": "code",
            "execution_count": 35,
            "metadata": {},
            "outputs": [],
            "source": [
                "import os\n",
                "import time \n",
                "import random\n",
                "\n",
                "import pandas as pd\n",
                "import numpy as np\n",
                "import matplotlib.pyplot as plt\n",
                "\n",
                "from sklearn.model_selection import StratifiedKFold\n",
                "\n",
                "from sklearn.metrics import roc_auc_score\n",
                "from sklearn.preprocessing import LabelEncoder, StandardScaler\n",
                "\n",
                "import lightgbm as lgb\n",
                "\n",
                "\n",
                "def seed_torch(seed):\n",
                "    random.seed(seed)\n",
                "    os.environ['PYTHONHASHSEED'] = str(seed)\n",
                "    np.random.seed(seed)"
            ]
        },
        {
            "cell_type": "code",
            "execution_count": 36,
            "metadata": {},
            "outputs": [],
            "source": [
                "class CFG :\n",
                "    debug = False\n",
                "    random_seed = 42\n",
                "    n_splits = 5\n",
                "    num_classes = 2\n",
                "    target = \"Exited\"\n",
                "    drop_col = [\"id\", \"CustomerId\", \"Surname\"]\n",
                "    cat_col = [\"Geography\", \"Gender\"]\n",
                "    data_dir = \"../input/\"\n",
                "    exp_name = \"lgbm_baseline\""
            ]
        },
        {
            "cell_type": "markdown",
            "metadata": {},
            "source": [
                "今回は lightgbm 用の設定をまとめます。ハイパラは途中から一部のパラメータのデフォルトの値を入れてあるので各自で調べていじってみてください！  \n"
            ]
        },
        {
            "cell_type": "code",
            "execution_count": 37,
            "metadata": {},
            "outputs": [],
            "source": [
                "class lgbm_CFG : \n",
                "    # ここらへんは変えない方がいいかも？\n",
                "    print_freq = 100 # 何ラウンドごとに評価するか\n",
                "    num_rounds = 10000 # 何ラウンド回すか、大きめの値を入れておいて早期終了する\n",
                "    early_stopping_rounds = 100 # 何ラウンド改善がなかったら終了するか\n",
                "    metric = \"auc\" # 評価指標\n",
                "    objective = \"binary\" # 二値分類なので\n",
                "    boosting = \"gbdt\" # 今回は gbdt というブースティング手法を使います\n",
                "    \n",
                "    # ここからはデフォルトの値を入れてます！\n",
                "    learning_rate = 0.1\n",
                "    max_depth = -1\n",
                "    num_leaves = 31\n",
                "    min_data_in_leaf = 20\n",
                "    bagging_fraction = 1.0\n",
                "    bagging_freq = 0\n",
                "    feature_fraction = 1.0\n",
                "    lambda_l1 = 0.0\n",
                "    lambda_l2 = 0.0\n"
            ]
        },
        {
            "cell_type": "markdown",
            "metadata": {},
            "source": [
                "# 2. データの形式を確認しよう"
            ]
        },
        {
            "cell_type": "code",
            "execution_count": 38,
            "metadata": {},
            "outputs": [
                {
                    "data": {
                        "text/html": [
                            "<div>\n",
                            "<style scoped>\n",
                            "    .dataframe tbody tr th:only-of-type {\n",
                            "        vertical-align: middle;\n",
                            "    }\n",
                            "\n",
                            "    .dataframe tbody tr th {\n",
                            "        vertical-align: top;\n",
                            "    }\n",
                            "\n",
                            "    .dataframe thead th {\n",
                            "        text-align: right;\n",
                            "    }\n",
                            "</style>\n",
                            "<table border=\"1\" class=\"dataframe\">\n",
                            "  <thead>\n",
                            "    <tr style=\"text-align: right;\">\n",
                            "      <th></th>\n",
                            "      <th>id</th>\n",
                            "      <th>CustomerId</th>\n",
                            "      <th>Surname</th>\n",
                            "      <th>CreditScore</th>\n",
                            "      <th>Geography</th>\n",
                            "      <th>Gender</th>\n",
                            "      <th>Age</th>\n",
                            "      <th>Tenure</th>\n",
                            "      <th>Balance</th>\n",
                            "      <th>NumOfProducts</th>\n",
                            "      <th>HasCrCard</th>\n",
                            "      <th>IsActiveMember</th>\n",
                            "      <th>EstimatedSalary</th>\n",
                            "      <th>Exited</th>\n",
                            "    </tr>\n",
                            "  </thead>\n",
                            "  <tbody>\n",
                            "    <tr>\n",
                            "      <th>0</th>\n",
                            "      <td>0</td>\n",
                            "      <td>15674932</td>\n",
                            "      <td>Okwudilichukwu</td>\n",
                            "      <td>668</td>\n",
                            "      <td>France</td>\n",
                            "      <td>Male</td>\n",
                            "      <td>33.0</td>\n",
                            "      <td>3</td>\n",
                            "      <td>0.00</td>\n",
                            "      <td>2</td>\n",
                            "      <td>1.0</td>\n",
                            "      <td>0.0</td>\n",
                            "      <td>181449.97</td>\n",
                            "      <td>0</td>\n",
                            "    </tr>\n",
                            "    <tr>\n",
                            "      <th>1</th>\n",
                            "      <td>1</td>\n",
                            "      <td>15749177</td>\n",
                            "      <td>Okwudiliolisa</td>\n",
                            "      <td>627</td>\n",
                            "      <td>France</td>\n",
                            "      <td>Male</td>\n",
                            "      <td>33.0</td>\n",
                            "      <td>1</td>\n",
                            "      <td>0.00</td>\n",
                            "      <td>2</td>\n",
                            "      <td>1.0</td>\n",
                            "      <td>1.0</td>\n",
                            "      <td>49503.50</td>\n",
                            "      <td>0</td>\n",
                            "    </tr>\n",
                            "    <tr>\n",
                            "      <th>2</th>\n",
                            "      <td>2</td>\n",
                            "      <td>15694510</td>\n",
                            "      <td>Hsueh</td>\n",
                            "      <td>678</td>\n",
                            "      <td>France</td>\n",
                            "      <td>Male</td>\n",
                            "      <td>40.0</td>\n",
                            "      <td>10</td>\n",
                            "      <td>0.00</td>\n",
                            "      <td>2</td>\n",
                            "      <td>1.0</td>\n",
                            "      <td>0.0</td>\n",
                            "      <td>184866.69</td>\n",
                            "      <td>0</td>\n",
                            "    </tr>\n",
                            "    <tr>\n",
                            "      <th>3</th>\n",
                            "      <td>3</td>\n",
                            "      <td>15741417</td>\n",
                            "      <td>Kao</td>\n",
                            "      <td>581</td>\n",
                            "      <td>France</td>\n",
                            "      <td>Male</td>\n",
                            "      <td>34.0</td>\n",
                            "      <td>2</td>\n",
                            "      <td>148882.54</td>\n",
                            "      <td>1</td>\n",
                            "      <td>1.0</td>\n",
                            "      <td>1.0</td>\n",
                            "      <td>84560.88</td>\n",
                            "      <td>0</td>\n",
                            "    </tr>\n",
                            "    <tr>\n",
                            "      <th>4</th>\n",
                            "      <td>4</td>\n",
                            "      <td>15766172</td>\n",
                            "      <td>Chiemenam</td>\n",
                            "      <td>716</td>\n",
                            "      <td>Spain</td>\n",
                            "      <td>Male</td>\n",
                            "      <td>33.0</td>\n",
                            "      <td>5</td>\n",
                            "      <td>0.00</td>\n",
                            "      <td>2</td>\n",
                            "      <td>1.0</td>\n",
                            "      <td>1.0</td>\n",
                            "      <td>15068.83</td>\n",
                            "      <td>0</td>\n",
                            "    </tr>\n",
                            "  </tbody>\n",
                            "</table>\n",
                            "</div>"
                        ],
                        "text/plain": [
                            "   id  CustomerId         Surname  CreditScore Geography Gender   Age  Tenure  \\\n",
                            "0   0    15674932  Okwudilichukwu          668    France   Male  33.0       3   \n",
                            "1   1    15749177   Okwudiliolisa          627    France   Male  33.0       1   \n",
                            "2   2    15694510           Hsueh          678    France   Male  40.0      10   \n",
                            "3   3    15741417             Kao          581    France   Male  34.0       2   \n",
                            "4   4    15766172       Chiemenam          716     Spain   Male  33.0       5   \n",
                            "\n",
                            "     Balance  NumOfProducts  HasCrCard  IsActiveMember  EstimatedSalary  \\\n",
                            "0       0.00              2        1.0             0.0        181449.97   \n",
                            "1       0.00              2        1.0             1.0         49503.50   \n",
                            "2       0.00              2        1.0             0.0        184866.69   \n",
                            "3  148882.54              1        1.0             1.0         84560.88   \n",
                            "4       0.00              2        1.0             1.0         15068.83   \n",
                            "\n",
                            "   Exited  \n",
                            "0       0  \n",
                            "1       0  \n",
                            "2       0  \n",
                            "3       0  \n",
                            "4       0  "
                        ]
                    },
                    "execution_count": 38,
                    "metadata": {},
                    "output_type": "execute_result"
                }
            ],
            "source": [
                "train_df = pd.read_csv(os.path.join(CFG.data_dir, \"playground-series-s4e1\", \"train.csv\"))\n",
                "test_df = pd.read_csv(os.path.join(CFG.data_dir, \"playground-series-s4e1\", \"test.csv\"))\n",
                "sub = pd.read_csv(os.path.join(CFG.data_dir, \"playground-series-s4e1\", \"sample_submission.csv\"))\n",
                "train_df.head()"
            ]
        },
        {
            "cell_type": "markdown",
            "metadata": {},
            "source": [
                "# 3. 簡単な EDA をしよう\n",
                "EDA というのは、調ざっくり言うとデータの可視化などの手法で、データの性質を調べていこう、という手法です\n"
            ]
        },
        {
            "cell_type": "code",
            "execution_count": 39,
            "metadata": {},
            "outputs": [
                {
                    "name": "stdout",
                    "output_type": "stream",
                    "text": [
                        "(165034, 14)\n",
                        "(110023, 13)\n"
                    ]
                }
            ],
            "source": [
                "# EDA\n",
                "print(train_df.shape)\n",
                "print(test_df.shape)"
            ]
        },
        {
            "cell_type": "code",
            "execution_count": 40,
            "metadata": {},
            "outputs": [
                {
                    "name": "stdout",
                    "output_type": "stream",
                    "text": [
                        "id                 0\n",
                        "CustomerId         0\n",
                        "Surname            0\n",
                        "CreditScore        0\n",
                        "Geography          0\n",
                        "Gender             0\n",
                        "Age                0\n",
                        "Tenure             0\n",
                        "Balance            0\n",
                        "NumOfProducts      0\n",
                        "HasCrCard          0\n",
                        "IsActiveMember     0\n",
                        "EstimatedSalary    0\n",
                        "Exited             0\n",
                        "dtype: int64\n"
                    ]
                }
            ],
            "source": [
                "# 欠損値の確認\n",
                "print(train_df.isnull().sum())"
            ]
        },
        {
            "cell_type": "code",
            "execution_count": 41,
            "metadata": {},
            "outputs": [
                {
                    "data": {
                        "image/png": "[encoded data removed]",
                        "text/plain": [
                            "<Figure size 800x400 with 1 Axes>"
                        ]
                    },
                    "metadata": {},
                    "output_type": "display_data"
                }
            ],
            "source": [
                "# CreditScore の分布    \n",
                "plt.figure(figsize=(8, 4))\n",
                "plt.hist(train_df[\"CreditScore\"], bins=30)\n",
                "plt.show()"
            ]
        },
        {
            "cell_type": "code",
            "execution_count": 42,
            "metadata": {},
            "outputs": [
                {
                    "data": {
                        "image/png": "[encoded data removed]",
                        "text/plain": [
                            "<Figure size 800x400 with 1 Axes>"
                        ]
                    },
                    "metadata": {},
                    "output_type": "display_data"
                }
            ],
            "source": [
                "# Age の分布\n",
                "plt.figure(figsize=(8, 4))\n",
                "plt.hist(train_df[\"Age\"], bins=30)\n",
                "plt.show()\n"
            ]
        },
        {
            "cell_type": "code",
            "execution_count": 43,
            "metadata": {},
            "outputs": [
                {
                    "data": {
                        "image/png": "[encoded data removed]",
                        "text/plain": [
                            "<Figure size 800x400 with 1 Axes>"
                        ]
                    },
                    "metadata": {},
                    "output_type": "display_data"
                }
            ],
            "source": [
                "# Tenure の分布、棒グラフで表示\n",
                "plt.figure(figsize=(8, 4))\n",
                "train_df[\"Tenure\"].value_counts().sort_index().plot(kind=\"bar\")\n",
                "plt.show()\n"
            ]
        },
        {
            "cell_type": "code",
            "execution_count": 44,
            "metadata": {},
            "outputs": [
                {
                    "data": {
                        "image/png": "[encoded data removed]",
                        "text/plain": [
                            "<Figure size 800x400 with 1 Axes>"
                        ]
                    },
                    "metadata": {},
                    "output_type": "display_data"
                }
            ],
            "source": [
                "# Balance の分布\n",
                "plt.figure(figsize=(8, 4))\n",
                "plt.hist(train_df[\"Balance\"], bins=30)\n",
                "plt.show()\n"
            ]
        },
        {
            "cell_type": "code",
            "execution_count": 45,
            "metadata": {},
            "outputs": [
                {
                    "data": {
                        "image/png": "[encoded data removed]",
                        "text/plain": [
                            "<Figure size 800x400 with 1 Axes>"
                        ]
                    },
                    "metadata": {},
                    "output_type": "display_data"
                }
            ],
            "source": [
                "# NumOfProducts の分布、棒グラフで表示、横軸は数字の大きさ順に並べる\n",
                "plt.figure(figsize=(8, 4))\n",
                "train_df[\"NumOfProducts\"].value_counts().sort_index().plot(kind=\"bar\")\n",
                "plt.show()"
            ]
        },
        {
            "cell_type": "markdown",
            "metadata": {},
            "source": [
                "残りの変数についても、適切な可視化を考えてみましょう！"
            ]
        },
        {
            "cell_type": "markdown",
            "metadata": {},
            "source": [
                "# 4. 特徴量エンジニアリングをしよう\n",
                "テーブルデータでは、数値と数値、数値とカテゴリ、カテゴリとカテゴリなど特徴量の組み合わせで新しい特徴量を作ることがあります。これを入力することで、モデルの精度が向上することがあります。"
            ]
        },
        {
            "cell_type": "markdown",
            "metadata": {},
            "source": [
                "以下のセルに特徴量エンジニアリングを追加してみましょう。"
            ]
        },
        {
            "cell_type": "code",
            "execution_count": 46,
            "metadata": {},
            "outputs": [],
            "source": [
                "def process_data(df, is_train=True) :\n",
                "    df = df.drop(CFG.drop_col, axis=1)\n",
                "    for col in CFG.cat_col :\n",
                "        le = LabelEncoder()\n",
                "        df[col] = le.fit_transform(df[col])\n",
                "    \n",
                "    # ここに特徴量エンジニアリングを追加する。ここでは例として is_balance_zero を追加している\n",
                "    df[\"is_balance_zero\"] = (df[\"Balance\"] == 0).astype(int)\n",
                "    \n",
                "    if is_train :\n",
                "        return df.drop(CFG.target, axis=1), df[CFG.target]\n",
                "    else :\n",
                "        return df"
            ]
        },
        {
            "cell_type": "code",
            "execution_count": 47,
            "metadata": {},
            "outputs": [],
            "source": [
                "train_df, train_target = process_data(train_df)\n",
                "test_df = process_data(test_df, is_train=False)"
            ]
        },
        {
            "cell_type": "markdown",
            "metadata": {},
            "source": [
                "# 5. CV を組もう\n",
                "今までやってきたとおりです。今回は目的変数の分布にやや偏りがあるので StratifiedKFold を用います。"
            ]
        },
        {
            "cell_type": "code",
            "execution_count": 48,
            "metadata": {},
            "outputs": [],
            "source": [
                "def train_lgbm_one_fold(X_train, y_train, X_valid, y_valid, X_test, params, fold_id) :\n",
                "    print(f\"====================training fold {fold_id}====================\")\n",
                "    # lightgbm 用のデータセットに変換する\n",
                "    train = lgb.Dataset(X_train, label=y_train)\n",
                "    valid = lgb.Dataset(X_valid, label=y_valid)\n",
                "    \n",
                "    # モデルの学習、valid を監視して early stopping する\n",
                "    model = lgb.train(\n",
                "        params=params,\n",
                "        train_set=train,\n",
                "        num_boost_round=lgbm_CFG.num_rounds,\n",
                "        valid_sets=[train, valid],\n",
                "        valid_names=[\"train\", \"valid\"],\n",
                "        callbacks=[lgb.early_stopping(lgbm_CFG.early_stopping_rounds, verbose=True), lgb.log_evaluation(period=lgbm_CFG.print_freq)],\n",
                "    )\n",
                "    \n",
                "    # oof の結果を返す\n",
                "    oof = model.predict(X_valid)\n",
                "    score = roc_auc_score(y_valid, oof)\n",
                "    print(f\"fold {fold_id} roc-auc: {score}\")\n",
                "    \n",
                "    test_preds = model.predict(X_test)\n",
                "    return oof, test_preds, model"
            ]
        },
        {
            "cell_type": "code",
            "execution_count": 49,
            "metadata": {},
            "outputs": [],
            "source": [
                "def train_lgbm(X, y, test, params) :\n",
                "    # oof の結果も返す\n",
                "    oof_preds = np.zeros((X.shape[0], ))\n",
                "    test_preds = np.zeros((test.shape[0], ))\n",
                "    \n",
                "    skf = StratifiedKFold(n_splits=CFG.n_splits, shuffle=True, random_state=CFG.random_seed)\n",
                "    for fold_id, (train_index, valid_index) in enumerate(skf.split(X, y)) :\n",
                "        X_train, X_valid = X.iloc[train_index], X.iloc[valid_index]\n",
                "        y_train, y_valid = y.iloc[train_index], y.iloc[valid_index]\n",
                "        \n",
                "        oof, test_preds, _ = train_lgbm_one_fold(X_train, y_train, X_valid, y_valid, test, params, fold_id)\n",
                "        \n",
                "        oof_preds[valid_index] = oof\n",
                "        test_preds += test_preds / CFG.n_splits\n",
                "    \n",
                "    score = roc_auc_score(y, oof_preds)\n",
                "    print(f\"total roc-auc: {score}\")\n",
                "    \n",
                "    return oof, test_preds"
            ]
        },
        {
            "cell_type": "code",
            "execution_count": 50,
            "metadata": {},
            "outputs": [],
            "source": [
                "# ここでは、 lightgbm に渡すパラメータを定義\n",
                "params = {\n",
                "    \"objective\" : \"binary\",\n",
                "    \"metric\" : lgbm_CFG.metric,\n",
                "    \"verbosity\" : -1,\n",
                "    \"boosting_type\" : lgbm_CFG.boosting,\n",
                "    # \"device_type\" : \"gpu\", # 結果の一意性が保証されないためコメントアウト\n",
                "    \"random_state\" : CFG.random_seed,\n",
                "    # CFG デフォルト値につき以下省略。書きたい場合は上の書き方を参考にして記入してください。\n",
                "}"
            ]
        },
        {
            "cell_type": "code",
            "execution_count": 51,
            "metadata": {},
            "outputs": [
                {
                    "name": "stdout",
                    "output_type": "stream",
                    "text": [
                        "====================training fold 0====================\n",
                        "Training until validation scores don't improve for 100 rounds\n",
                        "[100]\ttrain's auc: 0.897866\tvalid's auc: 0.88936\n",
                        "[200]\ttrain's auc: 0.905809\tvalid's auc: 0.889422\n",
                        "Early stopping, best iteration is:\n",
                        "[131]\ttrain's auc: 0.900516\tvalid's auc: 0.889558\n",
                        "fold 0 roc-auc: 0.8895576926860762\n",
                        "====================training fold 1====================\n",
                        "Training until validation scores don't improve for 100 rounds\n",
                        "[100]\ttrain's auc: 0.897846\tvalid's auc: 0.88875\n",
                        "[200]\ttrain's auc: 0.905539\tvalid's auc: 0.888628\n",
                        "Early stopping, best iteration is:\n",
                        "[100]\ttrain's auc: 0.897846\tvalid's auc: 0.88875\n",
                        "fold 1 roc-auc: 0.8887495477720629\n",
                        "====================training fold 2====================\n",
                        "Training until validation scores don't improve for 100 rounds\n",
                        "[100]\ttrain's auc: 0.897076\tvalid's auc: 0.890691\n",
                        "[200]\ttrain's auc: 0.905465\tvalid's auc: 0.890731\n",
                        "Early stopping, best iteration is:\n",
                        "[161]\ttrain's auc: 0.902371\tvalid's auc: 0.890812\n",
                        "fold 2 roc-auc: 0.8908118425197834\n",
                        "====================training fold 3====================\n",
                        "Training until validation scores don't improve for 100 rounds\n",
                        "[100]\ttrain's auc: 0.897386\tvalid's auc: 0.890503\n",
                        "[200]\ttrain's auc: 0.905395\tvalid's auc: 0.890679\n",
                        "Early stopping, best iteration is:\n",
                        "[197]\ttrain's auc: 0.905184\tvalid's auc: 0.890709\n",
                        "fold 3 roc-auc: 0.890708764848333\n",
                        "====================training fold 4====================\n",
                        "Training until validation scores don't improve for 100 rounds\n",
                        "[100]\ttrain's auc: 0.898324\tvalid's auc: 0.886749\n",
                        "Early stopping, best iteration is:\n",
                        "[91]\ttrain's auc: 0.897456\tvalid's auc: 0.886795\n",
                        "fold 4 roc-auc: 0.8867947740800519\n",
                        "total roc-auc: 0.889299306350442\n"
                    ]
                }
            ],
            "source": [
                "def main() :\n",
                "    oof, test_preds = train_lgbm(train_df, train_target, test_df, params)\n",
                "    sub[CFG.target] = test_preds\n",
                "    sub.to_csv(f\"submission_{CFG.exp_name}.csv\", index=False)\n",
                "    \n",
                "if __name__ == \"__main__\" :\n",
                "    main()"
            ]
        },
        {
            "cell_type": "markdown",
            "metadata": {},
            "source": [
                "# 6. 改善ポイント\n",
                "- 特徴量エンジニアリングをやろう (全員) : 特徴量エンジニアリングをやりましょう。正規化とかするだけでも結果は変わってきます。 [この記事](https://zenn.dev/colum2131/articles/fffac4654e7c7c) に基本的なことはまとまっているので、読んでみてください！    \n",
                "- ハイパラ調整をしよう（全員） : パラメータはデフォルトの値よりもいい値が存在することが多いです。 [この記事](https://zenn.dev/mosamosa/articles/07d0076c9292136a3639) を読んで手動で探索してもいいですし、 **optuna** というライブラリを使うととっても楽に出来るので調べてみましょう！\n",
                "- アンサンブルをしよう（全員） : lightgbm と似たような手法だと xgboost などの有名ライブラリがあります。 それ以外にも、普通に NN を実装したり、ロジスティクス回帰などの少し性質の異なるアルゴリズムをアンサンブルに入れたりすると良いでしょう！\n",
                "- 実験管理を気をつけよう（中級者） : 1notebook 1 実験を心がけるとやりやすいです\n",
                "- スタッキングをしよう（中級者） : スタッキングをしましょう。"
            ]
        }
    ],
    "metadata": {
        "kernelspec": {
            "display_name": "Python 3",
            "language": "python",
            "name": "python3"
        },
        "language_info": {
            "codemirror_mode": {
                "name": "ipython",
                "version": 3
            },
            "file_extension": ".py",
            "mimetype": "text/x-python",
            "name": "python",
            "nbconvert_exporter": "python",
            "pygments_lexer": "ipython3",
            "version": "3.10.12"
        }
    },
    "nbformat": 4,
    "nbformat_minor": 2
}
